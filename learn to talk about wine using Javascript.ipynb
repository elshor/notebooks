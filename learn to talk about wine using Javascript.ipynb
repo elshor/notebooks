{
 "cells": [
  {
   "cell_type": "markdown",
   "metadata": {},
   "source": [
    "# Learn to talk about wine using Javascript\n",
    "This is the notebook used to write the post published on Medium."
   ]
  },
  {
   "cell_type": "markdown",
   "metadata": {},
   "source": [
    "## Loading the Library"
   ]
  },
  {
   "cell_type": "code",
   "execution_count": 2,
   "metadata": {},
   "outputs": [
    {
     "data": {
      "text/plain": [
       "{ [Function] registerFunction: [Function] }"
      ]
     },
     "execution_count": 2,
     "metadata": {},
     "output_type": "execute_result"
    }
   ],
   "source": [
    "Collection = require('dstools').Collection;"
   ]
  },
  {
   "cell_type": "markdown",
   "metadata": {},
   "source": [
    "# Loading the Data"
   ]
  },
  {
   "cell_type": "code",
   "execution_count": 3,
   "metadata": {},
   "outputs": [
    {
     "data": {
      "text/html": [
       "Finished loading 129971 rows from /home/elshor/data/winemag-data-130k-v2.csv"
      ]
     },
     "metadata": {},
     "output_type": "display_data"
    }
   ],
   "source": [
    "data = Collection().loadCSV('/home/elshor/data/winemag-data-130k-v2.csv')"
   ]
  },
  {
   "cell_type": "code",
   "execution_count": 5,
   "metadata": {},
   "outputs": [
    {
     "data": {
      "text/html": [
       "<div style=\"overflow:scroll\">\n",
       "<style scoped>\n",
       "strong {\n",
       "\tfont-weight: bold;\n",
       "}\n",
       "\n",
       "em {\n",
       "\tfont-style: italic;\n",
       "}\n",
       "\n",
       "table {\n",
       "\tbackground: #f5f5f5;\n",
       "\tborder-collapse: separate;\n",
       "\tbox-shadow: inset 0 1px 0 #fff;\n",
       "\tfont-size: 12px;\n",
       "\tline-height: 24px;\n",
       "\tmargin: 30px auto;\n",
       "\ttext-align: left;\n",
       "\twidth: 800px;\n",
       "}\n",
       "\n",
       "th {\n",
       "\tbackground:  linear-gradient(#777, #444);\n",
       "\tborder-left: 1px solid #555;\n",
       "\tborder-right: 1px solid #777;\n",
       "\tborder-top: 1px solid #555;\n",
       "\tborder-bottom: 1px solid #333;\n",
       "\tbox-shadow: inset 0 1px 0 #999;\n",
       "\tcolor: #fff;\n",
       "  font-weight: bold;\n",
       "\tpadding: 10px 15px;\n",
       "\tposition: relative;\n",
       "\ttext-shadow: 0 1px 0 #000;\n",
       "}\n",
       "th.header-field{\n",
       "\ttext-align: left;\n",
       "}\n",
       "th:after {\n",
       "\tbackground: linear-gradient(rgba(255,255,255,0), rgba(255,255,255,.08));\n",
       "\tcontent: '';\n",
       "\tdisplay: block;\n",
       "\theight: 25%;\n",
       "\tleft: 0;\n",
       "\tmargin: 1px 0 0 0;\n",
       "\tposition: absolute;\n",
       "\ttop: 25%;\n",
       "\twidth: 100%;\n",
       "}\n",
       "\n",
       "th:first-child {\n",
       "\tborder-left: 1px solid #777;\n",
       "\tbox-shadow: inset 1px 1px 0 #999;\n",
       "}\n",
       "\n",
       "th:last-child {\n",
       "\tbox-shadow: inset -1px 1px 0 #999;\n",
       "}\n",
       "\n",
       "td.table-cell {\n",
       "\tborder-right: 1px solid #fff;\n",
       "\tborder-left: 1px solid #e8e8e8;\n",
       "\tborder-top: 1px solid #fff;\n",
       "\tborder-bottom: 1px solid #e8e8e8;\n",
       "\tpadding: 10px 15px;\n",
       "\tposition: relative;\n",
       "\ttransition: all 300ms;\n",
       "\ttext-align:left;\n",
       "}\n",
       "\n",
       "td.table-cell:first-child {\n",
       "\tbox-shadow: inset 1px 0 0 #fff;\n",
       "}\n",
       "\n",
       "td.table-cell:last-child {\n",
       "\tborder-right: 1px solid #e8e8e8;\n",
       "\tbox-shadow: inset -1px 0 0 #fff;\n",
       "}\n",
       "\n",
       "\n",
       "tr:last-of-type td {\n",
       "\tbox-shadow: inset 0 -1px 0 #fff;\n",
       "}\n",
       "\n",
       "tr:last-of-type td:first-child {\n",
       "\tbox-shadow: inset 1px -1px 0 #fff;\n",
       "}\n",
       "\n",
       "tr:last-of-type td:last-child {\n",
       "\tbox-shadow: inset -1px -1px 0 #fff;\n",
       "}\n",
       "th{\n",
       "\twidth:8em;\n",
       "}\n",
       "</style><table><caption>Table View</caption><thead class=\"theader\"><tr><th class=\"header-field\">id</th><th class=\"header-field\">country</th><th class=\"header-field\">description</th><th class=\"header-field\">designation</th><th class=\"header-field\">points</th><th class=\"header-field\">price</th><th class=\"header-field\">province</th><th class=\"header-field\">region_1</th><th class=\"header-field\">region_2</th><th class=\"header-field\">taster_name</th><th class=\"header-field\">taster_twitter_handle</th><th class=\"header-field\">title</th><th class=\"header-field\">variety</th><th class=\"header-field\">winery</th></tr></thead><tbody><tr class=\"table-row\"><td class=\"table-cell\">0</td><td class=\"table-cell\">Italy</td><td class=\"table-cell\">Aromas include tropical fruit, broom, brimstone and dried herb. The palate isn&#x27;t overly expressive, offering unripened apple, citrus and dried sage alongside brisk acidity.</td><td class=\"table-cell\">Vulkà Bianco</td><td class=\"table-cell\">87</td><td class=\"table-cell\"></td><td class=\"table-cell\">Sicily &amp; Sardinia</td><td class=\"table-cell\">Etna</td><td class=\"table-cell\"></td><td class=\"table-cell\">Kerin O’Keefe</td><td class=\"table-cell\">@kerinokeefe</td><td class=\"table-cell\">Nicosia 2013 Vulkà Bianco  (Etna)</td><td class=\"table-cell\">White Blend</td><td class=\"table-cell\">Nicosia</td></tr><tr class=\"table-row\"><td class=\"table-cell\">1</td><td class=\"table-cell\">Portugal</td><td class=\"table-cell\">This is ripe and fruity, a wine that is smooth while still structured. Firm tannins are filled out with juicy red berry fruits and freshened with acidity. It&#x27;s  already drinkable, although it will certainly be better from 2016.</td><td class=\"table-cell\">Avidagos</td><td class=\"table-cell\">87</td><td class=\"table-cell\">15</td><td class=\"table-cell\">Douro</td><td class=\"table-cell\"></td><td class=\"table-cell\"></td><td class=\"table-cell\">Roger Voss</td><td class=\"table-cell\">@vossroger</td><td class=\"table-cell\">Quinta dos Avidagos 2011 Avidagos Red (Douro)</td><td class=\"table-cell\">Portuguese Red</td><td class=\"table-cell\">Quinta dos Avidagos</td></tr><tr class=\"table-row\"><td class=\"table-cell\">2</td><td class=\"table-cell\">US</td><td class=\"table-cell\">Tart and snappy, the flavors of lime flesh and rind dominate. Some green pineapple pokes through, with crisp acidity underscoring the flavors. The wine was all stainless-steel fermented.</td><td class=\"table-cell\"></td><td class=\"table-cell\">87</td><td class=\"table-cell\">14</td><td class=\"table-cell\">Oregon</td><td class=\"table-cell\">Willamette Valley</td><td class=\"table-cell\">Willamette Valley</td><td class=\"table-cell\">Paul Gregutt</td><td class=\"table-cell\">@paulgwine</td><td class=\"table-cell\">Rainstorm 2013 Pinot Gris (Willamette Valley)</td><td class=\"table-cell\">Pinot Gris</td><td class=\"table-cell\">Rainstorm</td></tr><tr class=\"table-row\"><td class=\"table-cell\">3</td><td class=\"table-cell\">US</td><td class=\"table-cell\">Pineapple rind, lemon pith and orange blossom start off the aromas. The palate is a bit more opulent, with notes of honey-drizzled guava and mango giving way to a slightly astringent, semidry finish.</td><td class=\"table-cell\">Reserve Late Harvest</td><td class=\"table-cell\">87</td><td class=\"table-cell\">13</td><td class=\"table-cell\">Michigan</td><td class=\"table-cell\">Lake Michigan Shore</td><td class=\"table-cell\"></td><td class=\"table-cell\">Alexander Peartree</td><td class=\"table-cell\"></td><td class=\"table-cell\">St. Julian 2013 Reserve Late Harvest Riesling (Lake Michigan Shore)</td><td class=\"table-cell\">Riesling</td><td class=\"table-cell\">St. Julian</td></tr><tr class=\"table-row\"><td class=\"table-cell\">4</td><td class=\"table-cell\">US</td><td class=\"table-cell\">Much like the regular bottling from 2012, this comes across as rather rough and tannic, with rustic, earthy, herbal characteristics. Nonetheless, if you think of it as a pleasantly unfussy country wine, it&#x27;s a good companion to a hearty winter stew.</td><td class=\"table-cell\">Vintner&#x27;s Reserve Wild Child Block</td><td class=\"table-cell\">87</td><td class=\"table-cell\">65</td><td class=\"table-cell\">Oregon</td><td class=\"table-cell\">Willamette Valley</td><td class=\"table-cell\">Willamette Valley</td><td class=\"table-cell\">Paul Gregutt</td><td class=\"table-cell\">@paulgwine</td><td class=\"table-cell\">Sweet Cheeks 2012 Vintner&#x27;s Reserve Wild Child Block Pinot Noir (Willamette Valley)</td><td class=\"table-cell\">Pinot Noir</td><td class=\"table-cell\">Sweet Cheeks</td></tr></tbody></div></table>"
      ]
     },
     "execution_count": 5,
     "metadata": {},
     "output_type": "execute_result"
    }
   ],
   "source": [
    "data.head().show()"
   ]
  },
  {
   "cell_type": "code",
   "execution_count": 6,
   "metadata": {},
   "outputs": [
    {
     "data": {
      "text/plain": [
       "'id,country,description,designation,points,price,province,region_1,region_2,taster_name,taster_twitter_handle,title,variety,winery'"
      ]
     },
     "execution_count": 6,
     "metadata": {},
     "output_type": "execute_result"
    }
   ],
   "source": [
    "data.fields().data().join();//showing the fields"
   ]
  },
  {
   "cell_type": "markdown",
   "metadata": {},
   "source": [
    "## Term Counts"
   ]
  },
  {
   "cell_type": "code",
   "execution_count": 7,
   "metadata": {},
   "outputs": [
    {
     "data": {
      "text/html": [
       "<div style=\"overflow:scroll\">\n",
       "<style scoped>\n",
       "strong {\n",
       "\tfont-weight: bold;\n",
       "}\n",
       "\n",
       "em {\n",
       "\tfont-style: italic;\n",
       "}\n",
       "\n",
       "table {\n",
       "\tbackground: #f5f5f5;\n",
       "\tborder-collapse: separate;\n",
       "\tbox-shadow: inset 0 1px 0 #fff;\n",
       "\tfont-size: 12px;\n",
       "\tline-height: 24px;\n",
       "\tmargin: 30px auto;\n",
       "\ttext-align: left;\n",
       "\twidth: 800px;\n",
       "}\n",
       "\n",
       "th {\n",
       "\tbackground:  linear-gradient(#777, #444);\n",
       "\tborder-left: 1px solid #555;\n",
       "\tborder-right: 1px solid #777;\n",
       "\tborder-top: 1px solid #555;\n",
       "\tborder-bottom: 1px solid #333;\n",
       "\tbox-shadow: inset 0 1px 0 #999;\n",
       "\tcolor: #fff;\n",
       "  font-weight: bold;\n",
       "\tpadding: 10px 15px;\n",
       "\tposition: relative;\n",
       "\ttext-shadow: 0 1px 0 #000;\n",
       "}\n",
       "th.header-field{\n",
       "\ttext-align: left;\n",
       "}\n",
       "th:after {\n",
       "\tbackground: linear-gradient(rgba(255,255,255,0), rgba(255,255,255,.08));\n",
       "\tcontent: '';\n",
       "\tdisplay: block;\n",
       "\theight: 25%;\n",
       "\tleft: 0;\n",
       "\tmargin: 1px 0 0 0;\n",
       "\tposition: absolute;\n",
       "\ttop: 25%;\n",
       "\twidth: 100%;\n",
       "}\n",
       "\n",
       "th:first-child {\n",
       "\tborder-left: 1px solid #777;\n",
       "\tbox-shadow: inset 1px 1px 0 #999;\n",
       "}\n",
       "\n",
       "th:last-child {\n",
       "\tbox-shadow: inset -1px 1px 0 #999;\n",
       "}\n",
       "\n",
       "td.table-cell {\n",
       "\tborder-right: 1px solid #fff;\n",
       "\tborder-left: 1px solid #e8e8e8;\n",
       "\tborder-top: 1px solid #fff;\n",
       "\tborder-bottom: 1px solid #e8e8e8;\n",
       "\tpadding: 10px 15px;\n",
       "\tposition: relative;\n",
       "\ttransition: all 300ms;\n",
       "\ttext-align:left;\n",
       "}\n",
       "\n",
       "td.table-cell:first-child {\n",
       "\tbox-shadow: inset 1px 0 0 #fff;\n",
       "}\n",
       "\n",
       "td.table-cell:last-child {\n",
       "\tborder-right: 1px solid #e8e8e8;\n",
       "\tbox-shadow: inset -1px 0 0 #fff;\n",
       "}\n",
       "\n",
       "\n",
       "tr:last-of-type td {\n",
       "\tbox-shadow: inset 0 -1px 0 #fff;\n",
       "}\n",
       "\n",
       "tr:last-of-type td:first-child {\n",
       "\tbox-shadow: inset 1px -1px 0 #fff;\n",
       "}\n",
       "\n",
       "tr:last-of-type td:last-child {\n",
       "\tbox-shadow: inset -1px -1px 0 #fff;\n",
       "}\n",
       "th{\n",
       "\twidth:8em;\n",
       "}\n",
       "</style><table><caption>Table View</caption><thead class=\"theader\"><tr><th class=\"header-field\">term</th><th class=\"header-field\">count</th></tr></thead><tbody><tr class=\"table-row\"><td class=\"table-cell\">wine</td><td class=\"table-cell\">80166</td></tr><tr class=\"table-row\"><td class=\"table-cell\">flavors</td><td class=\"table-cell\">60322</td></tr><tr class=\"table-row\"><td class=\"table-cell\">fruit</td><td class=\"table-cell\">49671</td></tr><tr class=\"table-row\"><td class=\"table-cell\">palate</td><td class=\"table-cell\">38516</td></tr><tr class=\"table-row\"><td class=\"table-cell\">aromas</td><td class=\"table-cell\">35450</td></tr></tbody></div></table>"
      ]
     },
     "execution_count": 7,
     "metadata": {},
     "output_type": "execute_result"
    }
   ],
   "source": [
    "data\n",
    ".terms({field:'description'}) //extract terms in field description\n",
    ".dropStopwords('term')//remove stopwords\n",
    ".sortDesc('count') //sort by count or terms\n",
    ".head(5)//choose top 5 terms\n",
    ".show();//show it"
   ]
  },
  {
   "cell_type": "markdown",
   "metadata": {},
   "source": [
    "## Word Cloud Visualization"
   ]
  },
  {
   "cell_type": "code",
   "execution_count": 8,
   "metadata": {},
   "outputs": [
    {
     "data": {
      "text/html": [
       "\n",
       "\t\t<script src=\"https://code.highcharts.com/highcharts.js\"></script>\n",
       "\t\t<script src=\"https://code.highcharts.com/modules/wordcloud.js\"></script>\n",
       "\t\t<div id=\"hc-1516162742687\"></div>\n",
       "\t\t<script>\n",
       "\t\tfunction hc1516162742687(){Highcharts.chart('hc-1516162742687',{\"title\":{\"text\":\"Word Cloud\"},\"series\":[{\"name\":\"count\",\"type\":\"wordcloud\",\"data\":[{\"name\":\"wine\",\"weight\":80166},{\"name\":\"flavors\",\"weight\":60322},{\"name\":\"fruit\",\"weight\":49671},{\"name\":\"palate\",\"weight\":38516},{\"name\":\"aromas\",\"weight\":35450},{\"name\":\"finish\",\"weight\":34971},{\"name\":\"acidity\",\"weight\":34575},{\"name\":\"tannins\",\"weight\":30527},{\"name\":\"cherry\",\"weight\":28917},{\"name\":\"black\",\"weight\":27947},{\"name\":\"ripe\",\"weight\":25317},{\"name\":\"red\",\"weight\":20794},{\"name\":\"Drink\",\"weight\":20410},{\"name\":\"spice\",\"weight\":18937},{\"name\":\"notes\",\"weight\":18580},{\"name\":\"oak\",\"weight\":17291},{\"name\":\"nose\",\"weight\":16949},{\"name\":\"berry\",\"weight\":16786},{\"name\":\"rich\",\"weight\":16240},{\"name\":\"fresh\",\"weight\":15940},{\"name\":\"dry\",\"weight\":15841},{\"name\":\"full\",\"weight\":14846},{\"name\":\"plum\",\"weight\":14642},{\"name\":\"fruits\",\"weight\":13548},{\"name\":\"apple\",\"weight\":13257},{\"name\":\"blend\",\"weight\":13118},{\"name\":\"sweet\",\"weight\":12787},{\"name\":\"white\",\"weight\":12604},{\"name\":\"offers\",\"weight\":12570},{\"name\":\"texture\",\"weight\":12391},{\"name\":\"blackberry\",\"weight\":12356},{\"name\":\"soft\",\"weight\":12207},{\"name\":\"crisp\",\"weight\":11852},{\"name\":\"bodied\",\"weight\":11558},{\"name\":\"citrus\",\"weight\":11442},{\"name\":\"dark\",\"weight\":11128},{\"name\":\"light\",\"weight\":11037},{\"name\":\"vanilla\",\"weight\":10813},{\"name\":\"Cabernet\",\"weight\":10794},{\"name\":\"shows\",\"weight\":10572},{\"name\":\"drink\",\"weight\":9913},{\"name\":\"bright\",\"weight\":9850},{\"name\":\"pepper\",\"weight\":9844},{\"name\":\"green\",\"weight\":9344},{\"name\":\"raspberry\",\"weight\":9280},{\"name\":\"lemon\",\"weight\":9262},{\"name\":\"fruity\",\"weight\":9204},{\"name\":\"juicy\",\"weight\":9131},{\"name\":\"good\",\"weight\":8720},{\"name\":\"firm\",\"weight\":8554}]}]})}\n",
       "\t\tif(window.Highcharts){hc1516162742687();\n",
       "\t\t}else{\n",
       "\t\t\trequire([\n",
       "\t\t\t\t'https://code.highcharts.com/highcharts.js',\n",
       "\t\t\t\t'https://code.highcharts.com/modules/wordcloud.js'\n",
       "\t\t\t], function(highcharts){window.highcharts = highcharts;hc1516162742687();\n",
       "\t\t\t});\n",
       "\t\t}\n",
       "\t\t</script>\n"
      ]
     },
     "execution_count": 8,
     "metadata": {},
     "output_type": "execute_result"
    }
   ],
   "source": [
    "data.terms({field:'description'}).dropStopwords('term')\n",
    ".sortDesc('count').head(50)\n",
    ".wordCloud('term','count')//arguments are label and measure\n",
    ".show();"
   ]
  },
  {
   "cell_type": "markdown",
   "metadata": {},
   "source": [
    "## Cabernet Sauvignon Term Count"
   ]
  },
  {
   "cell_type": "code",
   "execution_count": 9,
   "metadata": {},
   "outputs": [
    {
     "data": {
      "text/plain": [
       "'flavors, wine, black, tannins, fruit, Cabernet, cherry, finish, oak, aromas, blackberry, palate, cassis, chocolate, currant, plum, ripe, red, notes, berry, dark, rich, dry, soft, sweet, full, years, bodied, spice, tannic'"
      ]
     },
     "execution_count": 9,
     "metadata": {},
     "output_type": "execute_result"
    }
   ],
   "source": [
    "data\n",
    ".terms({field:'description',groupBy:'variety'}) //group by variety\n",
    ".dropStopwords('term')//remove stopwords\n",
    ".filterEqual('variety','Cabernet Sauvignon')//only show cabernet sauvignon terms\n",
    ".sortDesc('count') //sort by count or terms\n",
    ".head(30)//top 30 terms\n",
    ".column('term')//get 'term' column\n",
    ".data().join(', ');//show the terms as a list"
   ]
  },
  {
   "cell_type": "markdown",
   "metadata": {},
   "source": [
    "## Using TFIDF"
   ]
  },
  {
   "cell_type": "code",
   "execution_count": 10,
   "metadata": {},
   "outputs": [
    {
     "data": {
      "text/html": [
       "<div style=\"overflow:scroll\">\n",
       "<style scoped>\n",
       "strong {\n",
       "\tfont-weight: bold;\n",
       "}\n",
       "\n",
       "em {\n",
       "\tfont-style: italic;\n",
       "}\n",
       "\n",
       "table {\n",
       "\tbackground: #f5f5f5;\n",
       "\tborder-collapse: separate;\n",
       "\tbox-shadow: inset 0 1px 0 #fff;\n",
       "\tfont-size: 12px;\n",
       "\tline-height: 24px;\n",
       "\tmargin: 30px auto;\n",
       "\ttext-align: left;\n",
       "\twidth: 800px;\n",
       "}\n",
       "\n",
       "th {\n",
       "\tbackground:  linear-gradient(#777, #444);\n",
       "\tborder-left: 1px solid #555;\n",
       "\tborder-right: 1px solid #777;\n",
       "\tborder-top: 1px solid #555;\n",
       "\tborder-bottom: 1px solid #333;\n",
       "\tbox-shadow: inset 0 1px 0 #999;\n",
       "\tcolor: #fff;\n",
       "  font-weight: bold;\n",
       "\tpadding: 10px 15px;\n",
       "\tposition: relative;\n",
       "\ttext-shadow: 0 1px 0 #000;\n",
       "}\n",
       "th.header-field{\n",
       "\ttext-align: left;\n",
       "}\n",
       "th:after {\n",
       "\tbackground: linear-gradient(rgba(255,255,255,0), rgba(255,255,255,.08));\n",
       "\tcontent: '';\n",
       "\tdisplay: block;\n",
       "\theight: 25%;\n",
       "\tleft: 0;\n",
       "\tmargin: 1px 0 0 0;\n",
       "\tposition: absolute;\n",
       "\ttop: 25%;\n",
       "\twidth: 100%;\n",
       "}\n",
       "\n",
       "th:first-child {\n",
       "\tborder-left: 1px solid #777;\n",
       "\tbox-shadow: inset 1px 1px 0 #999;\n",
       "}\n",
       "\n",
       "th:last-child {\n",
       "\tbox-shadow: inset -1px 1px 0 #999;\n",
       "}\n",
       "\n",
       "td.table-cell {\n",
       "\tborder-right: 1px solid #fff;\n",
       "\tborder-left: 1px solid #e8e8e8;\n",
       "\tborder-top: 1px solid #fff;\n",
       "\tborder-bottom: 1px solid #e8e8e8;\n",
       "\tpadding: 10px 15px;\n",
       "\tposition: relative;\n",
       "\ttransition: all 300ms;\n",
       "\ttext-align:left;\n",
       "}\n",
       "\n",
       "td.table-cell:first-child {\n",
       "\tbox-shadow: inset 1px 0 0 #fff;\n",
       "}\n",
       "\n",
       "td.table-cell:last-child {\n",
       "\tborder-right: 1px solid #e8e8e8;\n",
       "\tbox-shadow: inset -1px 0 0 #fff;\n",
       "}\n",
       "\n",
       "\n",
       "tr:last-of-type td {\n",
       "\tbox-shadow: inset 0 -1px 0 #fff;\n",
       "}\n",
       "\n",
       "tr:last-of-type td:first-child {\n",
       "\tbox-shadow: inset 1px -1px 0 #fff;\n",
       "}\n",
       "\n",
       "tr:last-of-type td:last-child {\n",
       "\tbox-shadow: inset -1px -1px 0 #fff;\n",
       "}\n",
       "th{\n",
       "\twidth:8em;\n",
       "}\n",
       "</style><table><caption>Table View</caption><thead class=\"theader\"><tr><th class=\"header-field\">term</th><th class=\"header-field\">variety</th><th class=\"header-field\">tfidf</th><th class=\"header-field\">idf</th></tr></thead><tbody><tr class=\"table-row\"><td class=\"table-cell\">Cabernet</td><td class=\"table-cell\">Cabernet Sauvignon</td><td class=\"table-cell\">0.02346244059338738</td><td class=\"table-cell\">3.028431172743317</td></tr><tr class=\"table-row\"><td class=\"table-cell\">black</td><td class=\"table-cell\">Cabernet Sauvignon</td><td class=\"table-cell\">0.01673317871587816</td><td class=\"table-cell\">1.8877073987250803</td></tr><tr class=\"table-row\"><td class=\"table-cell\">tannins</td><td class=\"table-cell\">Cabernet Sauvignon</td><td class=\"table-cell\">0.016253677803851067</td><td class=\"table-cell\">1.8407188892891613</td></tr><tr class=\"table-row\"><td class=\"table-cell\">flavors</td><td class=\"table-cell\">Cabernet Sauvignon</td><td class=\"table-cell\">0.016168895111070277</td><td class=\"table-cell\">1.2224365876933898</td></tr><tr class=\"table-row\"><td class=\"table-cell\">cherry</td><td class=\"table-cell\">Cabernet Sauvignon</td><td class=\"table-cell\">0.014247265492529979</td><td class=\"table-cell\">1.9226759965628268</td></tr><tr class=\"table-row\"><td class=\"table-cell\">wine</td><td class=\"table-cell\">Cabernet Sauvignon</td><td class=\"table-cell\">0.013905370706257674</td><td class=\"table-cell\">1.1475717087292159</td></tr><tr class=\"table-row\"><td class=\"table-cell\">blackberry</td><td class=\"table-cell\">Cabernet Sauvignon</td><td class=\"table-cell\">0.012836667832919433</td><td class=\"table-cell\">2.233154497106992</td></tr><tr class=\"table-row\"><td class=\"table-cell\">oak</td><td class=\"table-cell\">Cabernet Sauvignon</td><td class=\"table-cell\">0.012539764094312586</td><td class=\"table-cell\">2.000349034881045</td></tr><tr class=\"table-row\"><td class=\"table-cell\">fruit</td><td class=\"table-cell\">Cabernet Sauvignon</td><td class=\"table-cell\">0.011625756851399141</td><td class=\"table-cell\">1.3464225674743808</td></tr><tr class=\"table-row\"><td class=\"table-cell\">cassis</td><td class=\"table-cell\">Cabernet Sauvignon</td><td class=\"table-cell\">0.010828410369779126</td><td class=\"table-cell\">2.670681537674819</td></tr><tr class=\"table-row\"><td class=\"table-cell\">Cab</td><td class=\"table-cell\">Cabernet Sauvignon</td><td class=\"table-cell\">0.009615997870274735</td><td class=\"table-cell\">3.754368176126253</td></tr><tr class=\"table-row\"><td class=\"table-cell\">finish</td><td class=\"table-cell\">Cabernet Sauvignon</td><td class=\"table-cell\">0.009022372124210767</td><td class=\"table-cell\">1.3424305462048436</td></tr><tr class=\"table-row\"><td class=\"table-cell\">chocolate</td><td class=\"table-cell\">Cabernet Sauvignon</td><td class=\"table-cell\">0.00848856200234622</td><td class=\"table-cell\">2.262713299348536</td></tr><tr class=\"table-row\"><td class=\"table-cell\">currant</td><td class=\"table-cell\">Cabernet Sauvignon</td><td class=\"table-cell\">0.008482207981771699</td><td class=\"table-cell\">2.4135361890831195</td></tr><tr class=\"table-row\"><td class=\"table-cell\">aromas</td><td class=\"table-cell\">Cabernet Sauvignon</td><td class=\"table-cell\">0.007619475266132629</td><td class=\"table-cell\">1.3188074004414077</td></tr><tr class=\"table-row\"><td class=\"table-cell\">palate</td><td class=\"table-cell\">Cabernet Sauvignon</td><td class=\"table-cell\">0.007116190959059329</td><td class=\"table-cell\">1.3424305462048436</td></tr><tr class=\"table-row\"><td class=\"table-cell\">berry</td><td class=\"table-cell\">Cabernet Sauvignon</td><td class=\"table-cell\">0.00661559002742304</td><td class=\"table-cell\">2.0276411771690523</td></tr><tr class=\"table-row\"><td class=\"table-cell\">blackberries</td><td class=\"table-cell\">Cabernet Sauvignon</td><td class=\"table-cell\">0.006611453590154506</td><td class=\"table-cell\">3.3563380465056065</td></tr><tr class=\"table-row\"><td class=\"table-cell\">cedar</td><td class=\"table-cell\">Cabernet Sauvignon</td><td class=\"table-cell\">0.006600576133998535</td><td class=\"table-cell\">2.807440474790208</td></tr><tr class=\"table-row\"><td class=\"table-cell\">plum</td><td class=\"table-cell\">Cabernet Sauvignon</td><td class=\"table-cell\">0.006598261525386515</td><td class=\"table-cell\">1.8946039777841406</td></tr><tr class=\"table-row\"><td class=\"table-cell\">dark</td><td class=\"table-cell\">Cabernet Sauvignon</td><td class=\"table-cell\">0.0065555083291882615</td><td class=\"table-cell\">2.0971988608709626</td></tr><tr class=\"table-row\"><td class=\"table-cell\">tannic</td><td class=\"table-cell\">Cabernet Sauvignon</td><td class=\"table-cell\">0.0064043695260352215</td><td class=\"table-cell\">2.4490428775400295</td></tr><tr class=\"table-row\"><td class=\"table-cell\">years</td><td class=\"table-cell\">Cabernet Sauvignon</td><td class=\"table-cell\">0.006136958258285458</td><td class=\"table-cell\">2.2380206867581647</td></tr><tr class=\"table-row\"><td class=\"table-cell\">red</td><td class=\"table-cell\">Cabernet Sauvignon</td><td class=\"table-cell\">0.005841878048004991</td><td class=\"table-cell\">1.7409477355442111</td></tr><tr class=\"table-row\"><td class=\"table-cell\">dry</td><td class=\"table-cell\">Cabernet Sauvignon</td><td class=\"table-cell\">0.00559828273548924</td><td class=\"table-cell\">1.8472978603872037</td></tr><tr class=\"table-row\"><td class=\"table-cell\">rich</td><td class=\"table-cell\">Cabernet Sauvignon</td><td class=\"table-cell\">0.005516097159272248</td><td class=\"table-cell\">1.7927096701028007</td></tr><tr class=\"table-row\"><td class=\"table-cell\">ripe</td><td class=\"table-cell\">Cabernet Sauvignon</td><td class=\"table-cell\">0.005346889450106305</td><td class=\"table-cell\">1.5571435987900335</td></tr><tr class=\"table-row\"><td class=\"table-cell\">notes</td><td class=\"table-cell\">Cabernet Sauvignon</td><td class=\"table-cell\">0.0053003496596795065</td><td class=\"table-cell\">1.5923231059112068</td></tr><tr class=\"table-row\"><td class=\"table-cell\">herbal</td><td class=\"table-cell\">Cabernet Sauvignon</td><td class=\"table-cell\">0.005092416390098588</td><td class=\"table-cell\">2.242910672052356</td></tr><tr class=\"table-row\"><td class=\"table-cell\">sweet</td><td class=\"table-cell\">Cabernet Sauvignon</td><td class=\"table-cell\">0.005042734233744155</td><td class=\"table-cell\">1.7772054835668354</td></tr></tbody></div></table>"
      ]
     },
     "execution_count": 10,
     "metadata": {},
     "output_type": "execute_result"
    }
   ],
   "source": [
    "data\n",
    ".terms({field:'description',groupBy:'variety',calc:'tfidf,idf'}) //calculate tfidf and idf\n",
    ".dropStopwords('term')//remove stopwords\n",
    ".filterEqual('variety','Cabernet Sauvignon')//only show cabernet sauvignon terms\n",
    ".sortDesc('tfidf') //sort by count or terms\n",
    ".head(30)//top 30 terms\n",
    ".show()"
   ]
  },
  {
   "cell_type": "markdown",
   "metadata": {},
   "source": [
    "## Filter using IDF"
   ]
  },
  {
   "cell_type": "code",
   "execution_count": 11,
   "metadata": {},
   "outputs": [
    {
     "data": {
      "text/html": [
       "\n",
       "\t\t<script src=\"https://code.highcharts.com/highcharts.js\"></script>\n",
       "\t\t<script src=\"https://code.highcharts.com/modules/wordcloud.js\"></script>\n",
       "\t\t<div id=\"hc-1516162883839\"></div>\n",
       "\t\t<script>\n",
       "\t\tfunction hc1516162883839(){Highcharts.chart('hc-1516162883839',{\"title\":{\"text\":\"Word Cloud for Cabernet Sauvignon\"},\"series\":[{\"name\":\"tfidf\",\"type\":\"wordcloud\",\"data\":[{\"name\":\"Cabernet\",\"weight\":0.02346244059338738},{\"name\":\"blackberry\",\"weight\":0.012836667832919433},{\"name\":\"oak\",\"weight\":0.012539764094312586},{\"name\":\"cassis\",\"weight\":0.010828410369779126},{\"name\":\"Cab\",\"weight\":0.009615997870274735},{\"name\":\"chocolate\",\"weight\":0.00848856200234622},{\"name\":\"currant\",\"weight\":0.008482207981771699},{\"name\":\"berry\",\"weight\":0.00661559002742304},{\"name\":\"blackberries\",\"weight\":0.006611453590154506},{\"name\":\"cedar\",\"weight\":0.006600576133998535},{\"name\":\"dark\",\"weight\":0.0065555083291882615},{\"name\":\"tannic\",\"weight\":0.0064043695260352215},{\"name\":\"years\",\"weight\":0.006136958258285458},{\"name\":\"herbal\",\"weight\":0.005092416390098588},{\"name\":\"tobacco\",\"weight\":0.00482461448024326},{\"name\":\"currants\",\"weight\":0.004620693539849374},{\"name\":\"Sauvignon\",\"weight\":0.004594934249512083},{\"name\":\"herb\",\"weight\":0.004420473231959259},{\"name\":\"100\",\"weight\":0.004179689277736828},{\"name\":\"cherries\",\"weight\":0.004028074561990591},{\"name\":\"Napa\",\"weight\":0.004000548732289871},{\"name\":\"firm\",\"weight\":0.003872889965549761},{\"name\":\"time\",\"weight\":0.0036632029782932033},{\"name\":\"tannin\",\"weight\":0.0036138782974729786},{\"name\":\"Merlot\",\"weight\":0.0035499706171997062},{\"name\":\"structure\",\"weight\":0.003485341764338261},{\"name\":\"pepper\",\"weight\":0.003484995447469588},{\"name\":\"licorice\",\"weight\":0.0034462451198104737},{\"name\":\"bit\",\"weight\":0.003441792737665578},{\"name\":\"cellar\",\"weight\":0.0034242837933109033},{\"name\":\"Verdot\",\"weight\":0.003394431056001775},{\"name\":\"herbs\",\"weight\":0.0033746093213755973},{\"name\":\"smoky\",\"weight\":0.0033711653947142155},{\"name\":\"new\",\"weight\":0.0032982965308719215},{\"name\":\"mocha\",\"weight\":0.003197583961776044},{\"name\":\"coffee\",\"weight\":0.003176811410443473},{\"name\":\"varietal\",\"weight\":0.003124980300933898},{\"name\":\"vineyard\",\"weight\":0.003079223171349747},{\"name\":\"Petit\",\"weight\":0.003068907645911473},{\"name\":\"will\",\"weight\":0.003018916658242288},{\"name\":\"raspberry\",\"weight\":0.002979940746927726},{\"name\":\"fine\",\"weight\":0.002943680775492422},{\"name\":\"age\",\"weight\":0.002855073279472599},{\"name\":\"leather\",\"weight\":0.0027883255969375653},{\"name\":\"barrel\",\"weight\":0.0027502535314033877},{\"name\":\"complex\",\"weight\":0.0027018153076545245},{\"name\":\"Valley\",\"weight\":0.002688211244233573},{\"name\":\"hard\",\"weight\":0.002688119431130235},{\"name\":\"clove\",\"weight\":0.0026503085092282647},{\"name\":\"long\",\"weight\":0.0024816587745359105}]}]})}\n",
       "\t\tif(window.Highcharts){hc1516162883839();\n",
       "\t\t}else{\n",
       "\t\t\trequire([\n",
       "\t\t\t\t'https://code.highcharts.com/highcharts.js',\n",
       "\t\t\t\t'https://code.highcharts.com/modules/wordcloud.js'\n",
       "\t\t\t], function(highcharts){window.highcharts = highcharts;hc1516162883839();\n",
       "\t\t\t});\n",
       "\t\t}\n",
       "\t\t</script>\n"
      ]
     },
     "execution_count": 11,
     "metadata": {},
     "output_type": "execute_result"
    }
   ],
   "source": [
    "data\n",
    ".terms({field:'description',groupBy:'variety',calc:'tfidf,idf'})\n",
    ".dropStopwords('term')\n",
    ".filterEqual('variety','Cabernet Sauvignon')\n",
    ".filter((term)=>term.idf>2)\n",
    ".sortDesc('tfidf')\n",
    ".head(50)\n",
    ".wordCloud('term','tfidf',{title:'Word Cloud for Cabernet Sauvignon'})\n",
    ".show()"
   ]
  },
  {
   "cell_type": "code",
   "execution_count": 12,
   "metadata": {},
   "outputs": [
    {
     "data": {
      "text/html": [
       "\n",
       "\t\t<script src=\"https://code.highcharts.com/highcharts.js\"></script>\n",
       "\t\t<script src=\"https://code.highcharts.com/modules/wordcloud.js\"></script>\n",
       "\t\t<div id=\"hc-1516162903003\"></div>\n",
       "\t\t<script>\n",
       "\t\tfunction hc1516162903003(){Highcharts.chart('hc-1516162903003',{\"title\":{\"text\":\"Word Cloud for Chardonnay\"},\"series\":[{\"name\":\"tfidf\",\"type\":\"wordcloud\",\"data\":[{\"name\":\"Chardonnay\",\"weight\":0.022858197240227654},{\"name\":\"oak\",\"weight\":0.011978189516077271},{\"name\":\"pear\",\"weight\":0.010234791346782658},{\"name\":\"lemon\",\"weight\":0.009584613196795209},{\"name\":\"pineapple\",\"weight\":0.008499901089289207},{\"name\":\"toast\",\"weight\":0.008360421573222384},{\"name\":\"peach\",\"weight\":0.0073635572246967445},{\"name\":\"buttered\",\"weight\":0.0073397317545407376},{\"name\":\"tropical\",\"weight\":0.006768187140064421},{\"name\":\"creamy\",\"weight\":0.005924196498115944},{\"name\":\"lime\",\"weight\":0.005816477877095366},{\"name\":\"yellow\",\"weight\":0.0052334270120601425},{\"name\":\"minerality\",\"weight\":0.00503098369045605},{\"name\":\"Chard\",\"weight\":0.004721476673091142},{\"name\":\"butter\",\"weight\":0.004475232073759981},{\"name\":\"wood\",\"weight\":0.004221362160952043},{\"name\":\"mineral\",\"weight\":0.0039557435584280844},{\"name\":\"orange\",\"weight\":0.003932625976138773},{\"name\":\"style\",\"weight\":0.0038736823425800995},{\"name\":\"melon\",\"weight\":0.003863818687460383},{\"name\":\"vineyard\",\"weight\":0.003840885812948549},{\"name\":\"apples\",\"weight\":0.003647748034574577},{\"name\":\"will\",\"weight\":0.0035132060370514267},{\"name\":\"oaky\",\"weight\":0.003474201776853798},{\"name\":\"apricot\",\"weight\":0.003471718949396241},{\"name\":\"caramel\",\"weight\":0.0034685925171385698},{\"name\":\"richness\",\"weight\":0.0034087090947412736},{\"name\":\"honey\",\"weight\":0.0033628614507036454},{\"name\":\"bottling\",\"weight\":0.0031439978826841336},{\"name\":\"medium\",\"weight\":0.0030814106655399553},{\"name\":\"clean\",\"weight\":0.0030024587550997756},{\"name\":\"barrel\",\"weight\":0.002974533284782608},{\"name\":\"toasty\",\"weight\":0.002960287632978307},{\"name\":\"buttery\",\"weight\":0.00294912217485868},{\"name\":\"pineapples\",\"weight\":0.0029170529372898792},{\"name\":\"new\",\"weight\":0.0028837413989780754},{\"name\":\"cream\",\"weight\":0.002802321967940894},{\"name\":\"aging\",\"weight\":0.002801479757352677},{\"name\":\"tight\",\"weight\":0.0027861664140856877},{\"name\":\"just\",\"weight\":0.0026613107978872837},{\"name\":\"toasted\",\"weight\":0.0026469222422137086},{\"name\":\"mango\",\"weight\":0.0026453761671672072},{\"name\":\"flavor\",\"weight\":0.0026409292133696997},{\"name\":\"balance\",\"weight\":0.0026078402406134148},{\"name\":\"years\",\"weight\":0.0026070284578482363},{\"name\":\"butterscotch\",\"weight\":0.0025211423218972034},{\"name\":\"Chablis\",\"weight\":0.002490267164889912},{\"name\":\"pears\",\"weight\":0.0024899218213650437},{\"name\":\"Chardonnays\",\"weight\":0.002431409505493132},{\"name\":\"ready\",\"weight\":0.0024130753202114344}]}]})}\n",
       "\t\tif(window.Highcharts){hc1516162903003();\n",
       "\t\t}else{\n",
       "\t\t\trequire([\n",
       "\t\t\t\t'https://code.highcharts.com/highcharts.js',\n",
       "\t\t\t\t'https://code.highcharts.com/modules/wordcloud.js'\n",
       "\t\t\t], function(highcharts){window.highcharts = highcharts;hc1516162903003();\n",
       "\t\t\t});\n",
       "\t\t}\n",
       "\t\t</script>\n"
      ]
     },
     "execution_count": 12,
     "metadata": {},
     "output_type": "execute_result"
    }
   ],
   "source": [
    "data\n",
    ".terms({field:'description',groupBy:'variety',calc:'tfidf,idf'})\n",
    ".dropStopwords('term')\n",
    ".filterEqual('variety','Chardonnay')\n",
    ".filter((term)=>term.idf>2)\n",
    ".sortDesc('tfidf')\n",
    ".head(50)\n",
    ".wordCloud('term','tfidf',{title:'Word Cloud for Chardonnay'})\n",
    ".show()"
   ]
  },
  {
   "cell_type": "markdown",
   "metadata": {},
   "source": [
    "## word2vec"
   ]
  },
  {
   "cell_type": "code",
   "execution_count": 4,
   "metadata": {},
   "outputs": [
    {
     "data": {
      "text/plain": [
       "[Wrapper object]"
      ]
     },
     "execution_count": 4,
     "metadata": {},
     "output_type": "execute_result"
    }
   ],
   "source": [
    "data\n",
    ".column('description')//get a vector of wine's description field\n",
    ".toLowerCase()//turn the descriptions into lower case\n",
    ".merge()//merge all descriptions into one string\n",
    ".save('wine-descriptions.txt')//save them into a file\n",
    "\n"
   ]
  },
  {
   "cell_type": "code",
   "execution_count": 6,
   "metadata": {},
   "outputs": [
    {
     "name": "stdout",
     "output_type": "stream",
     "text": [
      "\u001b[0m\u001b[2J\u001bc\u001b[36mStarting training using file ../../../wine-descriptions.txt\n",
      "\u001b[36m200K300K400K500K600K700K800K900K1000K1100K1200K1300K1400K1500K1600K1700K1800K1900K2000K2100K2200K2300K2400K2500K2600K2700K2800K2900K3000K3100K3200K3300K3400K3500K3600K3700K3800K3900K4000K4100K4200K4300K4400K4500K4600K4700K4800K4900K5000K5100K5200K5300KVocab size: 20422\n",
      "Words in train file: 5298121\n",
      "Alpha: 0.045573  Progress: 8.89%  Words/thread/sec: 295.22k  [36m\u001b[36m\u001b[36m\u001b[36m\u001b[36m\u001b[36m\u001b[36m\u001b[36m\u001b[36m\u001b[36m\u001b[36m\u001b[36m\u001b[36m\u001b[36m\u001b[36m\u001b[36m\u001b[36m\u001b[36m\u001b[36m\u001b[36m\u001b[36m\u001b[36m\u001b[36m\u001b[36m\u001b[36m\u001b[36m\u001b[36m\u001b[36m\u001b[36m\u001b[36m\u001b[36m\u001b[36m\u001b[36m\u001b[36m\u001b[36m\u001b[36m\u001b[36m\u001b[36m\u001b[36m\u001b[36m\u001b[36m\u001b[36m\u001b[36m\u001b[36m\u001b[36m\u001b[36m\u001b[36m\u001b[36m\u001b[36m\u001b[36m\u001b[36m\u001b[36m\u001b[36m\u001b[36m\u001b[36m\u001b[36m\u001b[36m\u001b[36m\u001b[36m\u001b[36m\u001b[36m\u001b[36m\u001b[36m\u001b[36m\u001b[36m\u001b[36m\u001b[36m\u001b[36m\u001b[36m\u001b[36m\u001b[36m\u001b[36m\u001b[36m\u001b[36m\u001b[36m\u001b[36m\u001b[36m\u001b[36m\u001b[36m\u001b[36m\u001b[36m\u001b[36m\u001b[36m\u001b[36m\u001b[36m\u001b[36m\u001b[36m\u001b[36m\u001b[36m\u001b[36m\u001b[36m\u001b[36m\u001b[36m\u001b[36m\u001b[36m\u001b[36m\u001b[36m\u001b[36m\u001b[36m\u001b[36m\u001b[36m\u001b[36m\u001b[36m\u001b[36m\u001b[36m\u001b[36m\u001b[36m\u001b[36m\u001b[36m\u001b[36m\u001b[36m\u001b[36m\u001b[36m\u001b[36m\u001b[36m\u001b[36m\u001b[36m\u001b[36m\u001b[36m\u001b[36m\u001b[36m\u001b[36m\u001b[36m\u001b[36m\u001b[36m\u001b[36m\u001b[36m\u001b[36m\u001b[36m\u001b[36m\u001b[36m\u001b[36m\u001b[36m\u001b[36m\u001b[36m\u001b[36m\u001b[36m\u001b[36m\u001b[36m\u001b[36m\u001b[36m\u001b[36m\u001b[36m\u001b[36m\u001b[36m\u001b[36m\u001b[36m\u001b[36m\u001b[36m\u001b[36m\u001b[36m\u001b[36m\u001b[36m\u001b[36m\u001b[36m\u001b[36m\u001b[36m\u001b[36m\u001b[36m\u001b[36m\u001b[36m\u001b[36m\u001b[36m\u001b[36m\u001b[36m\u001b[36m\u001b[36m\u001b[36m\u001b[36m\u001b[36m\u001b[36m\u001b[36m\u001b[36m\u001b[36m\u001b[36m\u001b[36m\u001b[36m\u001b[36m\u001b[36m\u001b[36m\u001b[36m\u001b[36m\u001b[36m\u001b[36m\u001b[36m\u001b[36m\u001b[36m\u001b[36m\u001b[36m\u001b[36m\u001b[36m\u001b[36m\u001b[36m\u001b[36m\u001b[36m\u001b[36m\u001b[36m\u001b[36m\u001b[36m\u001b[36m\u001b[36m\u001b[36m\u001b[36m\u001b[36m\u001b[36m\u001b[36m\u001b[36m\u001b[36m\u001b[36m\u001b[36m\u001b[36m\u001b[36m\u001b[36m\u001b[36m\u001b[36m\u001b[36m\u001b[36m\u001b[36m\u001b[36m\u001b[36m\u001b[36m\u001b[36m\u001b[36m\u001b[36m\u001b[36m\u001b[36m\u001b[36m"
     ]
    }
   ],
   "source": [
    "word2vec = require( 'word2vec' );\n",
    "word2vec.word2vec('wine-descriptions.txt','wine-model.txt');"
   ]
  },
  {
   "cell_type": "code",
   "execution_count": 7,
   "metadata": {},
   "outputs": [
    {
     "name": "stdout",
     "output_type": "stream",
     "text": [
      "blackberry: berry,raspberry,blueberry,blackberry,,boysenberry,black,dark-berry,strawberry,black-cherry,red-berry\n",
      "chocolate: chocolate,,mocha,cocoa,licorice,coffee,carob,molasses,tobacco,cola,cedar\n",
      "tropical: passion,kiwi,stone,pineapple,lychee,yellow,melon,mango,peachy,papaya\n",
      "mineral: nervy,steely,minerality,flinty,minerally,mineral,,mineral-driven,lemon-zest,tangy,saline\n",
      "green: bruised,sliced,cider,green,,fresh-cut,grassy,cucumber,gala,underripe,yellow\n"
     ]
    }
   ],
   "source": [
    "//load the model from file\n",
    "word2vec.loadModel('wine-model.txt', function( err, model ) {\n",
    "['blackberry','chocolate','tropical','mineral','green']//terms\n",
    ".forEach((base)=>console.log(base + ': ' + \n",
    "//most similar function returns terms most similar to base\n",
    "model.mostSimilar(base,10)\n",
    ".map((term)=>term.word).join()));//show terms in list\n",
    "});"
   ]
  }
 ],
 "metadata": {
  "kernelspec": {
   "display_name": "Javascript (Node.js)",
   "language": "javascript",
   "name": "javascript"
  },
  "language_info": {
   "file_extension": ".js",
   "mimetype": "application/javascript",
   "name": "javascript",
   "version": "9.2.1"
  }
 },
 "nbformat": 4,
 "nbformat_minor": 2
}
